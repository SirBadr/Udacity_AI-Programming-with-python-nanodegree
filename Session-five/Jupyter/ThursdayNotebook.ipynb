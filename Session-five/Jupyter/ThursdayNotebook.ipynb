{
 "cells": [
  {
   "cell_type": "code",
   "execution_count": 1,
   "id": "6f295035",
   "metadata": {},
   "outputs": [
    {
     "data": {
      "text/plain": [
       "6"
      ]
     },
     "execution_count": 1,
     "metadata": {},
     "output_type": "execute_result"
    }
   ],
   "source": [
    "3*2"
   ]
  },
  {
   "cell_type": "markdown",
   "id": "26532ffa",
   "metadata": {},
   "source": [
    "# Hi This is a header\n",
    "## Hi This is a smaller header\n",
    "### Smaller "
   ]
  },
  {
   "cell_type": "markdown",
   "id": "a0c2d6ce",
   "metadata": {},
   "source": [
    "*I'm Italic*\n",
    "\n",
    "_I'm also Italic_"
   ]
  },
  {
   "cell_type": "markdown",
   "id": "cf9cb55a",
   "metadata": {},
   "source": [
    "**I'm Bold**\n",
    "\n",
    "__I'm also Bold__"
   ]
  },
  {
   "cell_type": "markdown",
   "id": "3e15482f",
   "metadata": {},
   "source": [
    "[Hi please use Google link for any search query](Google.com)"
   ]
  },
  {
   "cell_type": "markdown",
   "id": "91c1e8d2",
   "metadata": {},
   "source": [
    "[Udacity's home page](https://www.udacity.com)"
   ]
  },
  {
   "cell_type": "markdown",
   "id": "ecc136dc",
   "metadata": {},
   "source": [
    "please check this code snippet for guidance\n",
    "\n",
    "```python\n",
    "import numpy\n",
    "for i in range(0,10):\n",
    "    print(\"HELLO\")\n",
    "```"
   ]
  },
  {
   "cell_type": "markdown",
   "id": "71b4cb57",
   "metadata": {},
   "source": [
    "$$\n",
    "y = \\frac{a}{b+c}\n",
    "$$\n"
   ]
  },
  {
   "cell_type": "code",
   "execution_count": 4,
   "id": "ae7cbcc3",
   "metadata": {},
   "outputs": [],
   "source": [
    "def sumTwo(n1, n2):\n",
    "    return n1+n2"
   ]
  },
  {
   "cell_type": "code",
   "execution_count": 5,
   "id": "c88903b5",
   "metadata": {},
   "outputs": [
    {
     "data": {
      "text/plain": [
       "3"
      ]
     },
     "execution_count": 5,
     "metadata": {},
     "output_type": "execute_result"
    }
   ],
   "source": [
    "sumTwo(1,2)"
   ]
  },
  {
   "cell_type": "code",
   "execution_count": 6,
   "id": "56db1aab",
   "metadata": {},
   "outputs": [
    {
     "name": "stdout",
     "output_type": "stream",
     "text": [
      "72.7 ns ± 0.176 ns per loop (mean ± std. dev. of 7 runs, 10,000,000 loops each)\n"
     ]
    }
   ],
   "source": [
    "%timeit sumTwo(1,2)"
   ]
  },
  {
   "cell_type": "code",
   "execution_count": null,
   "id": "dee151cf",
   "metadata": {},
   "outputs": [
    {
     "name": "stdout",
     "output_type": "stream",
     "text": [
      "Automatic pdb calling has been turned ON\n"
     ]
    },
    {
     "ename": "TypeError",
     "evalue": "can only concatenate str (not \"int\") to str",
     "output_type": "error",
     "traceback": [
      "\u001b[0;31m---------------------------------------------------------------------------\u001b[0m",
      "\u001b[0;31mTypeError\u001b[0m                                 Traceback (most recent call last)",
      "Input \u001b[0;32mIn [11]\u001b[0m, in \u001b[0;36m<cell line: 4>\u001b[0;34m()\u001b[0m\n\u001b[1;32m      1\u001b[0m get_ipython()\u001b[38;5;241m.\u001b[39mrun_line_magic(\u001b[38;5;124m'\u001b[39m\u001b[38;5;124mpdb\u001b[39m\u001b[38;5;124m'\u001b[39m, \u001b[38;5;124m'\u001b[39m\u001b[38;5;124m'\u001b[39m)\n\u001b[1;32m      3\u001b[0m name \u001b[38;5;241m=\u001b[39m \u001b[38;5;124m\"\u001b[39m\u001b[38;5;124mhello\u001b[39m\u001b[38;5;124m\"\u001b[39m\n\u001b[0;32m----> 4\u001b[0m \u001b[43mname\u001b[49m\u001b[43m \u001b[49m\u001b[38;5;241;43m+\u001b[39;49m\u001b[43m \u001b[49m\u001b[38;5;241;43m5\u001b[39;49m\n",
      "\u001b[0;31mTypeError\u001b[0m: can only concatenate str (not \"int\") to str"
     ]
    },
    {
     "name": "stdout",
     "output_type": "stream",
     "text": [
      "> \u001b[0;32m/var/folders/19/xzxffxvx7cg0hqz55yl4c6840000gn/T/ipykernel_7998/3324340870.py\u001b[0m(4)\u001b[0;36m<cell line: 4>\u001b[0;34m()\u001b[0m\n",
      "\u001b[0;32m      1 \u001b[0;31m\u001b[0mget_ipython\u001b[0m\u001b[0;34m(\u001b[0m\u001b[0;34m)\u001b[0m\u001b[0;34m.\u001b[0m\u001b[0mrun_line_magic\u001b[0m\u001b[0;34m(\u001b[0m\u001b[0;34m'pdb'\u001b[0m\u001b[0;34m,\u001b[0m \u001b[0;34m''\u001b[0m\u001b[0;34m)\u001b[0m\u001b[0;34m\u001b[0m\u001b[0;34m\u001b[0m\u001b[0m\n",
      "\u001b[0m\u001b[0;32m      2 \u001b[0;31m\u001b[0;34m\u001b[0m\u001b[0m\n",
      "\u001b[0m\u001b[0;32m      3 \u001b[0;31m\u001b[0mname\u001b[0m \u001b[0;34m=\u001b[0m \u001b[0;34m\"hello\"\u001b[0m\u001b[0;34m\u001b[0m\u001b[0;34m\u001b[0m\u001b[0m\n",
      "\u001b[0m\u001b[0;32m----> 4 \u001b[0;31m\u001b[0mname\u001b[0m \u001b[0;34m+\u001b[0m \u001b[0;36m5\u001b[0m\u001b[0;34m\u001b[0m\u001b[0;34m\u001b[0m\u001b[0m\n",
      "\u001b[0m\n",
      "ipdb> print(name)\n",
      "hello\n",
      "ipdb> name = 10\n",
      "ipdb> name + 5\n",
      "15\n"
     ]
    }
   ],
   "source": [
    "%pdb\n",
    "\n",
    "name = \"hello\"\n",
    "name + 5"
   ]
  },
  {
   "cell_type": "code",
   "execution_count": null,
   "id": "8cb6290b",
   "metadata": {},
   "outputs": [],
   "source": []
  }
 ],
 "metadata": {
  "kernelspec": {
   "display_name": "Python 3 (ipykernel)",
   "language": "python",
   "name": "python3"
  },
  "language_info": {
   "codemirror_mode": {
    "name": "ipython",
    "version": 3
   },
   "file_extension": ".py",
   "mimetype": "text/x-python",
   "name": "python",
   "nbconvert_exporter": "python",
   "pygments_lexer": "ipython3",
   "version": "3.9.12"
  }
 },
 "nbformat": 4,
 "nbformat_minor": 5
}

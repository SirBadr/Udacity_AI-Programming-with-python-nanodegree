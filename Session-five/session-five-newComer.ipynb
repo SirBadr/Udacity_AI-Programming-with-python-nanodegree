{
 "cells": [
  {
   "cell_type": "code",
   "execution_count": 1,
   "id": "1d53ec60",
   "metadata": {},
   "outputs": [],
   "source": [
    "x = 1\n"
   ]
  },
  {
   "cell_type": "code",
   "execution_count": 2,
   "id": "147fc0fd",
   "metadata": {
    "scrolled": true
   },
   "outputs": [
    {
     "name": "stdout",
     "output_type": "stream",
     "text": [
      "1\n"
     ]
    }
   ],
   "source": [
    "print(x)"
   ]
  },
  {
   "cell_type": "code",
   "execution_count": 3,
   "id": "dabbf538",
   "metadata": {},
   "outputs": [],
   "source": [
    "x=2"
   ]
  },
  {
   "cell_type": "code",
   "execution_count": 4,
   "id": "f027fbd7",
   "metadata": {},
   "outputs": [
    {
     "name": "stdout",
     "output_type": "stream",
     "text": [
      "2\n"
     ]
    }
   ],
   "source": [
    "print(x)"
   ]
  },
  {
   "cell_type": "markdown",
   "id": "73e7465a",
   "metadata": {},
   "source": [
    "###### Hi this is text\n",
    "# Hi big font"
   ]
  },
  {
   "cell_type": "markdown",
   "id": "cd9aec1a",
   "metadata": {},
   "source": [
    "```python\n",
    "import numpy\n",
    "y =1 \n",
    "x = y+2\n",
    "print(x)\n",
    "\n",
    "for x in range(1,4):\n",
    "    print(\"HIIII\")\n",
    "```"
   ]
  },
  {
   "cell_type": "markdown",
   "id": "08c93cdd",
   "metadata": {},
   "source": [
    "import numpy\n",
    "y =1 \n",
    "x = y+2\n",
    "print(x)\n",
    "\n",
    "for x in range(1,4):\n",
    "    print(\"HIIII\")\n"
   ]
  },
  {
   "cell_type": "markdown",
   "id": "6564d19b",
   "metadata": {},
   "source": [
    "[Udacity's home page](https://www.udacity.com)\n"
   ]
  },
  {
   "cell_type": "markdown",
   "id": "3ae9db30",
   "metadata": {},
   "source": [
    "[Hello There](https://www.google.com)\n"
   ]
  },
  {
   "cell_type": "markdown",
   "id": "d91080d5",
   "metadata": {},
   "source": [
    "foo <font color='red'>bar</font> foo\n"
   ]
  },
  {
   "cell_type": "markdown",
   "id": "f4fc203b",
   "metadata": {},
   "source": [
    "foo <font color='blue'>bar</font> foo\n"
   ]
  },
  {
   "cell_type": "markdown",
   "id": "8fc2a5de",
   "metadata": {},
   "source": [
    "__Yello__"
   ]
  },
  {
   "cell_type": "markdown",
   "id": "6418194e",
   "metadata": {},
   "source": [
    "*yello* **yellow**"
   ]
  },
  {
   "cell_type": "markdown",
   "id": "0e2ad65a",
   "metadata": {},
   "source": [
    "$$\n",
    "y = \\frac{a}{b+c}\n",
    "$$\n"
   ]
  },
  {
   "cell_type": "code",
   "execution_count": 11,
   "id": "ae53e90f",
   "metadata": {},
   "outputs": [],
   "source": [
    "import time"
   ]
  },
  {
   "cell_type": "code",
   "execution_count": 13,
   "id": "76a33cd4",
   "metadata": {
    "scrolled": true
   },
   "outputs": [
    {
     "ename": "TypeError",
     "evalue": "'module' object is not callable",
     "output_type": "error",
     "traceback": [
      "\u001b[0;31m---------------------------------------------------------------------------\u001b[0m",
      "\u001b[0;31mTypeError\u001b[0m                                 Traceback (most recent call last)",
      "Input \u001b[0;32mIn [13]\u001b[0m, in \u001b[0;36m<cell line: 1>\u001b[0;34m()\u001b[0m\n\u001b[0;32m----> 1\u001b[0m start_time \u001b[38;5;241m=\u001b[39m \u001b[43mtime\u001b[49m\u001b[43m(\u001b[49m\u001b[43m)\u001b[49m\n",
      "\u001b[0;31mTypeError\u001b[0m: 'module' object is not callable"
     ]
    }
   ],
   "source": [
    "start_time = time()\n",
    "###### do some code here\n",
    "end_time = time()\n",
    "\n",
    "t = end_time - start_time"
   ]
  },
  {
   "cell_type": "code",
   "execution_count": 14,
   "id": "473747f6",
   "metadata": {},
   "outputs": [],
   "source": [
    "def sumTwo(n1, n2):\n",
    "    return n1+n2"
   ]
  },
  {
   "cell_type": "code",
   "execution_count": 15,
   "id": "f7bd1bd0",
   "metadata": {},
   "outputs": [],
   "source": [
    "def mulTwo(n1, n2):\n",
    "    return n1*n2"
   ]
  },
  {
   "cell_type": "code",
   "execution_count": 16,
   "id": "97ee46b3",
   "metadata": {},
   "outputs": [
    {
     "name": "stdout",
     "output_type": "stream",
     "text": [
      "69.8 ns ± 0.203 ns per loop (mean ± std. dev. of 7 runs, 10,000,000 loops each)\n"
     ]
    }
   ],
   "source": [
    "%timeit sumTwo(1,2)"
   ]
  },
  {
   "cell_type": "code",
   "execution_count": 18,
   "id": "8301a5c2",
   "metadata": {},
   "outputs": [
    {
     "name": "stdout",
     "output_type": "stream",
     "text": [
      "70.3 ns ± 0.308 ns per loop (mean ± std. dev. of 7 runs, 10,000,000 loops each)\n"
     ]
    }
   ],
   "source": [
    "%timeit mulTwo(1,2)"
   ]
  },
  {
   "cell_type": "code",
   "execution_count": 20,
   "id": "7e13ed39",
   "metadata": {},
   "outputs": [
    {
     "name": "stdout",
     "output_type": "stream",
     "text": [
      "266 ns ± 0.764 ns per loop (mean ± std. dev. of 7 runs, 1,000,000 loops each)\n"
     ]
    }
   ],
   "source": [
    "%%timeit\n",
    "\n",
    "for x in range(1,10):\n",
    "    y = 1\n",
    "    #print(\"Yello\")"
   ]
  },
  {
   "cell_type": "code",
   "execution_count": null,
   "id": "8f8d0f5e",
   "metadata": {},
   "outputs": [],
   "source": []
  }
 ],
 "metadata": {
  "kernelspec": {
   "display_name": "Python 3 (ipykernel)",
   "language": "python",
   "name": "python3"
  },
  "language_info": {
   "codemirror_mode": {
    "name": "ipython",
    "version": 3
   },
   "file_extension": ".py",
   "mimetype": "text/x-python",
   "name": "python",
   "nbconvert_exporter": "python",
   "pygments_lexer": "ipython3",
   "version": "3.9.12"
  }
 },
 "nbformat": 4,
 "nbformat_minor": 5
}

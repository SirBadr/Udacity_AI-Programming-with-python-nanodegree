{
 "cells": [
  {
   "cell_type": "code",
   "execution_count": 1,
   "id": "8eb1ed2b",
   "metadata": {},
   "outputs": [],
   "source": [
    "import numpy as np\n",
    "import pandas as pd"
   ]
  },
  {
   "cell_type": "markdown",
   "id": "c5c4739b",
   "metadata": {},
   "source": [
    "### Pandas create a new Series"
   ]
  },
  {
   "cell_type": "code",
   "execution_count": 8,
   "id": "840eddff",
   "metadata": {},
   "outputs": [
    {
     "name": "stdout",
     "output_type": "stream",
     "text": [
      "0    1\n",
      "1    2\n",
      "2    3\n",
      "3    4\n",
      "4    5\n",
      "dtype: int64\n"
     ]
    }
   ],
   "source": [
    "s = pd.Series((1,2,3,4,5))\n",
    "print(s)"
   ]
  },
  {
   "cell_type": "markdown",
   "id": "c7b35198",
   "metadata": {},
   "source": [
    "print pandas series index"
   ]
  },
  {
   "cell_type": "code",
   "execution_count": 9,
   "id": "24e802d1",
   "metadata": {},
   "outputs": [
    {
     "name": "stdout",
     "output_type": "stream",
     "text": [
      "RangeIndex(start=0, stop=5, step=1)\n"
     ]
    }
   ],
   "source": [
    "print(s.index)"
   ]
  },
  {
   "cell_type": "code",
   "execution_count": 10,
   "id": "ebb03e80",
   "metadata": {},
   "outputs": [
    {
     "name": "stdout",
     "output_type": "stream",
     "text": [
      "1\n"
     ]
    }
   ],
   "source": [
    "print(s[0])"
   ]
  },
  {
   "cell_type": "code",
   "execution_count": 11,
   "id": "7811bff6",
   "metadata": {},
   "outputs": [
    {
     "name": "stdout",
     "output_type": "stream",
     "text": [
      "a    0.219099\n",
      "b    0.411419\n",
      "c    1.582036\n",
      "dtype: float64\n"
     ]
    }
   ],
   "source": [
    "s = pd.Series(np.random.randn(3), ('a','b','c'))\n",
    "print(s)"
   ]
  },
  {
   "cell_type": "code",
   "execution_count": 18,
   "id": "a0332160",
   "metadata": {},
   "outputs": [
    {
     "name": "stdout",
     "output_type": "stream",
     "text": [
      "Index(['a', 'b', 'c'], dtype='object')\n"
     ]
    }
   ],
   "source": [
    "print(s.index)"
   ]
  },
  {
   "cell_type": "code",
   "execution_count": 13,
   "id": "5c197d98",
   "metadata": {},
   "outputs": [
    {
     "name": "stdout",
     "output_type": "stream",
     "text": [
      "0.2190994945383005\n"
     ]
    }
   ],
   "source": [
    "print(s[0])"
   ]
  },
  {
   "cell_type": "code",
   "execution_count": 20,
   "id": "bd1d50c4",
   "metadata": {},
   "outputs": [
    {
     "name": "stdout",
     "output_type": "stream",
     "text": [
      "0.7375180325330879\n",
      "2.2125540975992637\n"
     ]
    }
   ],
   "source": [
    "print(s.mean())\n",
    "print(s.sum())"
   ]
  },
  {
   "cell_type": "markdown",
   "id": "f0deb8b4",
   "metadata": {},
   "source": [
    "### convert pandas series to python dictonary"
   ]
  },
  {
   "cell_type": "code",
   "execution_count": 22,
   "id": "71f6957b",
   "metadata": {},
   "outputs": [
    {
     "name": "stdout",
     "output_type": "stream",
     "text": [
      "{'a': 0.2190994945383005, 'b': 0.4114188923150486, 'c': 1.5820357107459146}\n"
     ]
    }
   ],
   "source": [
    "s = dict(s)\n",
    "print(s)"
   ]
  },
  {
   "cell_type": "markdown",
   "id": "d4733681",
   "metadata": {},
   "source": [
    "### convert dictionary to series"
   ]
  },
  {
   "cell_type": "code",
   "execution_count": 23,
   "id": "544f63b3",
   "metadata": {},
   "outputs": [
    {
     "name": "stdout",
     "output_type": "stream",
     "text": [
      "a    0.219099\n",
      "b    0.411419\n",
      "c    1.582036\n",
      "dtype: float64\n"
     ]
    }
   ],
   "source": [
    "s = pd.Series(s)\n",
    "print(s)"
   ]
  },
  {
   "cell_type": "markdown",
   "id": "5b10f693",
   "metadata": {},
   "source": [
    "## Difference between numpy array and pandas series"
   ]
  },
  {
   "cell_type": "markdown",
   "id": "d4b352ef",
   "metadata": {},
   "source": [
    "### in numpy you can only access array using indexing, but in pandas you can access elements using names that you define"
   ]
  },
  {
   "cell_type": "code",
   "execution_count": 24,
   "id": "1f5a1789",
   "metadata": {},
   "outputs": [
    {
     "name": "stdout",
     "output_type": "stream",
     "text": [
      "1\n"
     ]
    }
   ],
   "source": [
    "arr = np.array((1,2,3,4,5))\n",
    "print(arr[0])  ## you can only access element with indexing"
   ]
  },
  {
   "cell_type": "code",
   "execution_count": 26,
   "id": "3b5f988c",
   "metadata": {},
   "outputs": [
    {
     "name": "stdout",
     "output_type": "stream",
     "text": [
      "0.2190994945383005\n"
     ]
    }
   ],
   "source": [
    "# but in pandas series you can access elements with a name you define (like dictionaries)\n",
    "print(s['a'])"
   ]
  },
  {
   "cell_type": "markdown",
   "id": "91ee1b2d",
   "metadata": {},
   "source": [
    "### pandas series can hold different data types unlike numpy array"
   ]
  },
  {
   "cell_type": "code",
   "execution_count": 27,
   "id": "ee0dbf68",
   "metadata": {},
   "outputs": [
    {
     "ename": "ValueError",
     "evalue": "invalid literal for int() with base 10: 'yello'",
     "output_type": "error",
     "traceback": [
      "\u001b[0;31m---------------------------------------------------------------------------\u001b[0m",
      "\u001b[0;31mValueError\u001b[0m                                Traceback (most recent call last)",
      "Input \u001b[0;32mIn [27]\u001b[0m, in \u001b[0;36m<cell line: 1>\u001b[0;34m()\u001b[0m\n\u001b[0;32m----> 1\u001b[0m arr[\u001b[38;5;241m0\u001b[39m] \u001b[38;5;241m=\u001b[39m \u001b[38;5;124m\"\u001b[39m\u001b[38;5;124myello\u001b[39m\u001b[38;5;124m\"\u001b[39m\n",
      "\u001b[0;31mValueError\u001b[0m: invalid literal for int() with base 10: 'yello'"
     ]
    }
   ],
   "source": [
    "arr[0] = \"yello\""
   ]
  },
  {
   "cell_type": "code",
   "execution_count": 30,
   "id": "026816bb",
   "metadata": {},
   "outputs": [],
   "source": [
    "s['a'] = \"Yello series\"\n",
    "s['c'] = 3"
   ]
  },
  {
   "cell_type": "code",
   "execution_count": 31,
   "id": "02ea2808",
   "metadata": {},
   "outputs": [
    {
     "name": "stdout",
     "output_type": "stream",
     "text": [
      "a    Yello series\n",
      "b        0.411419\n",
      "c               3\n",
      "dtype: object\n"
     ]
    }
   ],
   "source": [
    "print(s)"
   ]
  },
  {
   "cell_type": "code",
   "execution_count": 64,
   "id": "e4dd2904",
   "metadata": {},
   "outputs": [
    {
     "data": {
      "text/plain": [
       "eggs      [30, 20]\n",
       "apples           6\n",
       "milk           Yes\n",
       "bread           No\n",
       "dtype: object"
      ]
     },
     "execution_count": 64,
     "metadata": {},
     "output_type": "execute_result"
    }
   ],
   "source": [
    "# We create a Pandas Series that stores a grocery list\n",
    "groceries = pd.Series(data = [[30,20], 6, 'Yes', 'No'], index = ['eggs', 'apples', 'milk', 'bread'])\n",
    "\n",
    "# We display the Groceries Pandas Series\n",
    "groceries\n"
   ]
  },
  {
   "cell_type": "code",
   "execution_count": 34,
   "id": "3e9fe76f",
   "metadata": {},
   "outputs": [
    {
     "name": "stdout",
     "output_type": "stream",
     "text": [
      "Groceries has shape: (4,)\n",
      "Groceries has dimension: 1\n",
      "Groceries has a total of 4 elements\n"
     ]
    }
   ],
   "source": [
    "print('Groceries has shape:', groceries.shape)\n",
    "print('Groceries has dimension:', groceries.ndim)\n",
    "print('Groceries has a total of', groceries.size, 'elements')\n"
   ]
  },
  {
   "cell_type": "code",
   "execution_count": 35,
   "id": "3ae6b413",
   "metadata": {},
   "outputs": [
    {
     "name": "stdout",
     "output_type": "stream",
     "text": [
      "The data in Groceries is: [list([30, 20]) 6 'Yes' 'No']\n",
      "The index of Groceries is: Index(['eggs', 'apples', 'milk', 'bread'], dtype='object')\n"
     ]
    }
   ],
   "source": [
    "# We print the index and data of Groceries\n",
    "print('The data in Groceries is:', groceries.values)\n",
    "print('The index of Groceries is:', groceries.index)\n"
   ]
  },
  {
   "cell_type": "code",
   "execution_count": 36,
   "id": "8e37b22b",
   "metadata": {},
   "outputs": [
    {
     "name": "stdout",
     "output_type": "stream",
     "text": [
      "[30, 20]\n"
     ]
    }
   ],
   "source": [
    "print(groceries['eggs'])"
   ]
  },
  {
   "cell_type": "code",
   "execution_count": 44,
   "id": "28fb45c0",
   "metadata": {},
   "outputs": [
    {
     "name": "stdout",
     "output_type": "stream",
     "text": [
      "False\n",
      "True\n",
      "True\n",
      "True\n"
     ]
    }
   ],
   "source": [
    "print('Car' in groceries)\n",
    "print('eggs' in groceries)\n",
    "\n",
    "print(6 in groceries.values)\n",
    "\n",
    "print(20 in groceries['eggs'])"
   ]
  },
  {
   "cell_type": "code",
   "execution_count": 45,
   "id": "a0dfa4a1",
   "metadata": {},
   "outputs": [
    {
     "name": "stdout",
     "output_type": "stream",
     "text": [
      "Do we need milk and bread:\n",
      " milk     Yes\n",
      "bread     No\n",
      "dtype: object\n",
      "\n"
     ]
    }
   ],
   "source": [
    "# we can access multiple index labels\n",
    "print('Do we need milk and bread:\\n', groceries[['milk', 'bread']]) \n",
    "print()"
   ]
  },
  {
   "cell_type": "code",
   "execution_count": 52,
   "id": "0331aa4c",
   "metadata": {},
   "outputs": [
    {
     "name": "stdout",
     "output_type": "stream",
     "text": [
      "[30, 20]\n",
      "\n"
     ]
    }
   ],
   "source": [
    "print(groceries[0]) \n",
    "print()\n"
   ]
  },
  {
   "cell_type": "code",
   "execution_count": 48,
   "id": "e436e500",
   "metadata": {},
   "outputs": [
    {
     "name": "stdout",
     "output_type": "stream",
     "text": [
      "How many eggs and apples do we need to buy:\n",
      " eggs      [30, 20]\n",
      "apples           6\n",
      "dtype: object\n",
      "\n"
     ]
    }
   ],
   "source": [
    "print('How many eggs and apples do we need to buy:\\n',  groceries[[0, 1]]) \n",
    "print()\n"
   ]
  },
  {
   "cell_type": "code",
   "execution_count": 53,
   "id": "81191407",
   "metadata": {},
   "outputs": [
    {
     "name": "stdout",
     "output_type": "stream",
     "text": [
      "How many eggs and apples do we need to buy:\n",
      " eggs      [30, 20]\n",
      "apples           6\n",
      "dtype: object\n",
      "\n"
     ]
    }
   ],
   "source": [
    "# we use loc to access multiple index labels\n",
    "print('How many eggs and apples do we need to buy:\\n', groceries.loc[['eggs', 'apples']]) \n",
    "print()\n"
   ]
  },
  {
   "cell_type": "code",
   "execution_count": 54,
   "id": "8a8894c8",
   "metadata": {},
   "outputs": [
    {
     "name": "stdout",
     "output_type": "stream",
     "text": [
      "Do we need milk and bread:\n",
      " milk     Yes\n",
      "bread     No\n",
      "dtype: object\n"
     ]
    }
   ],
   "source": [
    "# we use iloc to access multiple numerical indices\n",
    "print('Do we need milk and bread:\\n', groceries.iloc[[2, 3]]) \n"
   ]
  },
  {
   "cell_type": "code",
   "execution_count": 56,
   "id": "6e4d160a",
   "metadata": {},
   "outputs": [
    {
     "name": "stdout",
     "output_type": "stream",
     "text": [
      "eggs      [30, 20]\n",
      "apples           6\n",
      "milk           Yes\n",
      "bread           No\n",
      "dtype: object\n"
     ]
    }
   ],
   "source": [
    "print(groceries)"
   ]
  },
  {
   "cell_type": "code",
   "execution_count": 58,
   "id": "e5b01230",
   "metadata": {},
   "outputs": [
    {
     "name": "stdout",
     "output_type": "stream",
     "text": [
      "We remove apples (out of place):\n",
      " eggs     [30, 20]\n",
      "milk          Yes\n",
      "bread          No\n",
      "dtype: object\n"
     ]
    }
   ],
   "source": [
    "print('We remove apples (out of place):\\n', groceries.drop('apples'))\n"
   ]
  },
  {
   "cell_type": "code",
   "execution_count": 59,
   "id": "c571edd5",
   "metadata": {},
   "outputs": [
    {
     "name": "stdout",
     "output_type": "stream",
     "text": [
      "eggs      [30, 20]\n",
      "apples           6\n",
      "milk           Yes\n",
      "bread           No\n",
      "dtype: object\n"
     ]
    }
   ],
   "source": [
    "print(groceries)"
   ]
  },
  {
   "cell_type": "code",
   "execution_count": 63,
   "id": "d5900fb9",
   "metadata": {},
   "outputs": [
    {
     "name": "stdout",
     "output_type": "stream",
     "text": [
      "eggs     [30, 20]\n",
      "milk          Yes\n",
      "bread          No\n",
      "dtype: object\n"
     ]
    }
   ],
   "source": [
    "groceries = groceries.drop('apples')\n",
    "print(groceries)"
   ]
  },
  {
   "cell_type": "code",
   "execution_count": 65,
   "id": "992d76aa",
   "metadata": {},
   "outputs": [],
   "source": [
    "groceries.drop('apples', inplace = True)"
   ]
  },
  {
   "cell_type": "code",
   "execution_count": 66,
   "id": "bb0d06cd",
   "metadata": {},
   "outputs": [
    {
     "name": "stdout",
     "output_type": "stream",
     "text": [
      "eggs     [30, 20]\n",
      "milk          Yes\n",
      "bread          No\n",
      "dtype: object\n"
     ]
    }
   ],
   "source": [
    "print(groceries)"
   ]
  },
  {
   "cell_type": "markdown",
   "id": "9066bb9f",
   "metadata": {},
   "source": [
    "## Arithmetic operations with pandas"
   ]
  },
  {
   "cell_type": "code",
   "execution_count": 85,
   "id": "2fad665f",
   "metadata": {},
   "outputs": [
    {
     "data": {
      "text/plain": [
       "apples     10\n",
       "oranges     6\n",
       "bananas     3\n",
       "dtype: int64"
      ]
     },
     "execution_count": 85,
     "metadata": {},
     "output_type": "execute_result"
    }
   ],
   "source": [
    "# We create a Pandas Series that stores a grocery list of just fruits\n",
    "fruits= pd.Series(data = [10, 6, 3,], index = ['apples', 'oranges', 'bananas'])\n",
    "\n",
    "# We display the fruits Pandas Series\n",
    "fruits\n"
   ]
  },
  {
   "cell_type": "code",
   "execution_count": 86,
   "id": "1300e7e5",
   "metadata": {},
   "outputs": [
    {
     "name": "stdout",
     "output_type": "stream",
     "text": [
      "apples     12\n",
      "oranges     8\n",
      "bananas     5\n",
      "dtype: int64\n",
      "========\n",
      "apples     3.162278\n",
      "oranges    2.449490\n",
      "bananas    1.732051\n",
      "dtype: float64\n",
      "========\n",
      "apples     100\n",
      "oranges     36\n",
      "bananas      9\n",
      "dtype: int64\n"
     ]
    }
   ],
   "source": [
    "print(fruits+2)\n",
    "print(\"========\")\n",
    "print(np.sqrt(fruits))\n",
    "print(\"========\")\n",
    "print(np.power(fruits,2))"
   ]
  },
  {
   "cell_type": "code",
   "execution_count": 87,
   "id": "c3c22328",
   "metadata": {},
   "outputs": [
    {
     "name": "stdout",
     "output_type": "stream",
     "text": [
      "apples     12\n",
      "oranges     6\n",
      "bananas     3\n",
      "dtype: int64\n"
     ]
    }
   ],
   "source": [
    "fruits['apples'] = fruits['apples'] + 2\n",
    "print(fruits)"
   ]
  },
  {
   "cell_type": "code",
   "execution_count": 93,
   "id": "ef934282",
   "metadata": {},
   "outputs": [
    {
     "name": "stdout",
     "output_type": "stream",
     "text": [
      "apples     12\n",
      "oranges     6\n",
      "dtype: int64\n"
     ]
    }
   ],
   "source": [
    "print(fruits.loc[['apples', 'oranges']])"
   ]
  },
  {
   "cell_type": "code",
   "execution_count": 94,
   "id": "1440c317",
   "metadata": {},
   "outputs": [
    {
     "name": "stdout",
     "output_type": "stream",
     "text": [
      "We half the amount of apples and oranges:\n",
      " apples     6.0\n",
      "oranges    3.0\n",
      "dtype: float64\n"
     ]
    }
   ],
   "source": [
    "print('We half the amount of apples and oranges:\\n', fruits.loc[['apples', 'oranges']] / 2)\n"
   ]
  },
  {
   "cell_type": "code",
   "execution_count": 96,
   "id": "7f1e42b6",
   "metadata": {},
   "outputs": [
    {
     "name": "stdout",
     "output_type": "stream",
     "text": [
      "apples     Green Apple\n",
      "oranges              6\n",
      "bananas              3\n",
      "dtype: object\n"
     ]
    }
   ],
   "source": [
    "fruits['apples'] = \"Green Apple\"\n",
    "print(fruits)"
   ]
  },
  {
   "cell_type": "code",
   "execution_count": 100,
   "id": "79ee6b26",
   "metadata": {},
   "outputs": [
    {
     "name": "stdout",
     "output_type": "stream",
     "text": [
      "Green AppleGreen Apple\n"
     ]
    }
   ],
   "source": [
    "print(fruits['apples']*2)"
   ]
  },
  {
   "cell_type": "code",
   "execution_count": 101,
   "id": "365aa254",
   "metadata": {},
   "outputs": [
    {
     "ename": "TypeError",
     "evalue": "unsupported operand type(s) for /: 'str' and 'int'",
     "output_type": "error",
     "traceback": [
      "\u001b[0;31m---------------------------------------------------------------------------\u001b[0m",
      "\u001b[0;31mTypeError\u001b[0m                                 Traceback (most recent call last)",
      "Input \u001b[0;32mIn [101]\u001b[0m, in \u001b[0;36m<cell line: 1>\u001b[0;34m()\u001b[0m\n\u001b[0;32m----> 1\u001b[0m \u001b[38;5;28mprint\u001b[39m(\u001b[43mfruits\u001b[49m\u001b[43m[\u001b[49m\u001b[38;5;124;43m'\u001b[39;49m\u001b[38;5;124;43mapples\u001b[39;49m\u001b[38;5;124;43m'\u001b[39;49m\u001b[43m]\u001b[49m\u001b[38;5;241;43m/\u001b[39;49m\u001b[38;5;241;43m2\u001b[39;49m)\n",
      "\u001b[0;31mTypeError\u001b[0m: unsupported operand type(s) for /: 'str' and 'int'"
     ]
    }
   ],
   "source": [
    "print(fruits['apples']/2)"
   ]
  },
  {
   "cell_type": "code",
   "execution_count": 102,
   "id": "0feef6d9",
   "metadata": {},
   "outputs": [
    {
     "ename": "TypeError",
     "evalue": "can only concatenate str (not \"int\") to str",
     "output_type": "error",
     "traceback": [
      "\u001b[0;31m---------------------------------------------------------------------------\u001b[0m",
      "\u001b[0;31mTypeError\u001b[0m                                 Traceback (most recent call last)",
      "Input \u001b[0;32mIn [102]\u001b[0m, in \u001b[0;36m<cell line: 1>\u001b[0;34m()\u001b[0m\n\u001b[0;32m----> 1\u001b[0m \u001b[38;5;28mprint\u001b[39m(\u001b[43mfruits\u001b[49m\u001b[43m[\u001b[49m\u001b[38;5;124;43m'\u001b[39;49m\u001b[38;5;124;43mapples\u001b[39;49m\u001b[38;5;124;43m'\u001b[39;49m\u001b[43m]\u001b[49m\u001b[38;5;241;43m+\u001b[39;49m\u001b[38;5;241;43m2\u001b[39;49m)\n",
      "\u001b[0;31mTypeError\u001b[0m: can only concatenate str (not \"int\") to str"
     ]
    }
   ],
   "source": [
    "print(fruits['apples']+2)"
   ]
  },
  {
   "cell_type": "markdown",
   "id": "a30953a9",
   "metadata": {},
   "source": [
    "## Pandas Dataframes"
   ]
  },
  {
   "cell_type": "code",
   "execution_count": 110,
   "id": "54cdfffd",
   "metadata": {
    "scrolled": true
   },
   "outputs": [
    {
     "data": {
      "text/plain": [
       "{'Bob': bike     245\n",
       " pants     25\n",
       " watch     55\n",
       " dtype: int64,\n",
       " 'Alice': book        40\n",
       " glasses    110\n",
       " bike       500\n",
       " pants       45\n",
       " dtype: int64}"
      ]
     },
     "execution_count": 110,
     "metadata": {},
     "output_type": "execute_result"
    }
   ],
   "source": [
    "# We create a dictionary of Pandas Series \n",
    "items = {'Bob' : pd.Series(data = [245, 25, 55], index = ['bike', 'pants', 'watch']),\n",
    "         'Alice' : pd.Series(data = [40, 110, 500, 45], index = ['book', 'glasses', 'bike', 'pants'])}\n",
    "\n",
    "items"
   ]
  },
  {
   "cell_type": "code",
   "execution_count": 111,
   "id": "38e8d6ab",
   "metadata": {},
   "outputs": [
    {
     "data": {
      "text/html": [
       "<div>\n",
       "<style scoped>\n",
       "    .dataframe tbody tr th:only-of-type {\n",
       "        vertical-align: middle;\n",
       "    }\n",
       "\n",
       "    .dataframe tbody tr th {\n",
       "        vertical-align: top;\n",
       "    }\n",
       "\n",
       "    .dataframe thead th {\n",
       "        text-align: right;\n",
       "    }\n",
       "</style>\n",
       "<table border=\"1\" class=\"dataframe\">\n",
       "  <thead>\n",
       "    <tr style=\"text-align: right;\">\n",
       "      <th></th>\n",
       "      <th>Bob</th>\n",
       "      <th>Alice</th>\n",
       "    </tr>\n",
       "  </thead>\n",
       "  <tbody>\n",
       "    <tr>\n",
       "      <th>bike</th>\n",
       "      <td>245.0</td>\n",
       "      <td>500.0</td>\n",
       "    </tr>\n",
       "    <tr>\n",
       "      <th>book</th>\n",
       "      <td>NaN</td>\n",
       "      <td>40.0</td>\n",
       "    </tr>\n",
       "    <tr>\n",
       "      <th>glasses</th>\n",
       "      <td>NaN</td>\n",
       "      <td>110.0</td>\n",
       "    </tr>\n",
       "    <tr>\n",
       "      <th>pants</th>\n",
       "      <td>25.0</td>\n",
       "      <td>45.0</td>\n",
       "    </tr>\n",
       "    <tr>\n",
       "      <th>watch</th>\n",
       "      <td>55.0</td>\n",
       "      <td>NaN</td>\n",
       "    </tr>\n",
       "  </tbody>\n",
       "</table>\n",
       "</div>"
      ],
      "text/plain": [
       "           Bob  Alice\n",
       "bike     245.0  500.0\n",
       "book       NaN   40.0\n",
       "glasses    NaN  110.0\n",
       "pants     25.0   45.0\n",
       "watch     55.0    NaN"
      ]
     },
     "execution_count": 111,
     "metadata": {},
     "output_type": "execute_result"
    }
   ],
   "source": [
    "shopping_carts = pd.DataFrame(items)\n",
    "shopping_carts"
   ]
  },
  {
   "cell_type": "code",
   "execution_count": 112,
   "id": "bec08eec",
   "metadata": {},
   "outputs": [
    {
     "name": "stdout",
     "output_type": "stream",
     "text": [
      "shopping_carts has shape: (5, 2)\n",
      "shopping_carts has dimension: 2\n",
      "shopping_carts has a total of: 10 elements\n",
      "\n",
      "The data in shopping_carts is:\n",
      " [[245. 500.]\n",
      " [ nan  40.]\n",
      " [ nan 110.]\n",
      " [ 25.  45.]\n",
      " [ 55.  nan]]\n",
      "\n",
      "The row index in shopping_carts is: Index(['bike', 'book', 'glasses', 'pants', 'watch'], dtype='object')\n",
      "\n",
      "The column index in shopping_carts is: Index(['Bob', 'Alice'], dtype='object')\n"
     ]
    }
   ],
   "source": [
    "# We print some information about shopping_carts\n",
    "print('shopping_carts has shape:', shopping_carts.shape)\n",
    "print('shopping_carts has dimension:', shopping_carts.ndim)\n",
    "print('shopping_carts has a total of:', shopping_carts.size, 'elements')\n",
    "print()\n",
    "print('The data in shopping_carts is:\\n', shopping_carts.values)\n",
    "print()\n",
    "print('The row index in shopping_carts is:', shopping_carts.index)\n",
    "print()\n",
    "print('The column index in shopping_carts is:', shopping_carts.columns)\n"
   ]
  },
  {
   "cell_type": "code",
   "execution_count": 120,
   "id": "adc1841e",
   "metadata": {},
   "outputs": [
    {
     "name": "stdout",
     "output_type": "stream",
     "text": [
      "bike       245.0\n",
      "book         NaN\n",
      "glasses      NaN\n",
      "pants       25.0\n",
      "watch       55.0\n",
      "Name: Bob, dtype: float64\n",
      "===========\n",
      "Bob      245.0\n",
      "Alice    500.0\n",
      "Name: bike, dtype: float64\n",
      "===========\n",
      "245.0\n"
     ]
    }
   ],
   "source": [
    "print(shopping_carts['Bob'])\n",
    "print(\"===========\")\n",
    "print(shopping_carts.loc['bike'])\n",
    "print(\"===========\")\n",
    "print(shopping_carts.loc['bike']['Bob'])"
   ]
  },
  {
   "cell_type": "code",
   "execution_count": 121,
   "id": "5d99dc9b",
   "metadata": {},
   "outputs": [
    {
     "data": {
      "text/html": [
       "<div>\n",
       "<style scoped>\n",
       "    .dataframe tbody tr th:only-of-type {\n",
       "        vertical-align: middle;\n",
       "    }\n",
       "\n",
       "    .dataframe tbody tr th {\n",
       "        vertical-align: top;\n",
       "    }\n",
       "\n",
       "    .dataframe thead th {\n",
       "        text-align: right;\n",
       "    }\n",
       "</style>\n",
       "<table border=\"1\" class=\"dataframe\">\n",
       "  <thead>\n",
       "    <tr style=\"text-align: right;\">\n",
       "      <th></th>\n",
       "      <th>Bob</th>\n",
       "      <th>Alice</th>\n",
       "    </tr>\n",
       "  </thead>\n",
       "  <tbody>\n",
       "    <tr>\n",
       "      <th>0</th>\n",
       "      <td>245.0</td>\n",
       "      <td>40</td>\n",
       "    </tr>\n",
       "    <tr>\n",
       "      <th>1</th>\n",
       "      <td>25.0</td>\n",
       "      <td>110</td>\n",
       "    </tr>\n",
       "    <tr>\n",
       "      <th>2</th>\n",
       "      <td>55.0</td>\n",
       "      <td>500</td>\n",
       "    </tr>\n",
       "    <tr>\n",
       "      <th>3</th>\n",
       "      <td>NaN</td>\n",
       "      <td>45</td>\n",
       "    </tr>\n",
       "  </tbody>\n",
       "</table>\n",
       "</div>"
      ],
      "text/plain": [
       "     Bob  Alice\n",
       "0  245.0     40\n",
       "1   25.0    110\n",
       "2   55.0    500\n",
       "3    NaN     45"
      ]
     },
     "execution_count": 121,
     "metadata": {},
     "output_type": "execute_result"
    }
   ],
   "source": [
    "# We create a dictionary of Pandas Series without indexes\n",
    "data = {'Bob' : pd.Series([245, 25, 55]),\n",
    "        'Alice' : pd.Series([40, 110, 500, 45])}\n",
    "\n",
    "# We create a DataFrame\n",
    "df = pd.DataFrame(data)\n",
    "\n",
    "# We display the DataFrame\n",
    "df\n"
   ]
  },
  {
   "cell_type": "code",
   "execution_count": 122,
   "id": "83b87159",
   "metadata": {},
   "outputs": [
    {
     "data": {
      "text/html": [
       "<div>\n",
       "<style scoped>\n",
       "    .dataframe tbody tr th:only-of-type {\n",
       "        vertical-align: middle;\n",
       "    }\n",
       "\n",
       "    .dataframe tbody tr th {\n",
       "        vertical-align: top;\n",
       "    }\n",
       "\n",
       "    .dataframe thead th {\n",
       "        text-align: right;\n",
       "    }\n",
       "</style>\n",
       "<table border=\"1\" class=\"dataframe\">\n",
       "  <thead>\n",
       "    <tr style=\"text-align: right;\">\n",
       "      <th></th>\n",
       "      <th>Bob</th>\n",
       "    </tr>\n",
       "  </thead>\n",
       "  <tbody>\n",
       "    <tr>\n",
       "      <th>bike</th>\n",
       "      <td>245</td>\n",
       "    </tr>\n",
       "    <tr>\n",
       "      <th>pants</th>\n",
       "      <td>25</td>\n",
       "    </tr>\n",
       "    <tr>\n",
       "      <th>watch</th>\n",
       "      <td>55</td>\n",
       "    </tr>\n",
       "  </tbody>\n",
       "</table>\n",
       "</div>"
      ],
      "text/plain": [
       "       Bob\n",
       "bike   245\n",
       "pants   25\n",
       "watch   55"
      ]
     },
     "execution_count": 122,
     "metadata": {},
     "output_type": "execute_result"
    }
   ],
   "source": [
    "# We Create a DataFrame that only has Bob's data\n",
    "bob_shopping_cart = pd.DataFrame(items, columns=['Bob'])\n",
    "\n",
    "# We display bob_shopping_cart\n",
    "bob_shopping_cart\n"
   ]
  },
  {
   "cell_type": "markdown",
   "id": "d308ab63",
   "metadata": {},
   "source": [
    "### Dealing with NaN"
   ]
  },
  {
   "cell_type": "code",
   "execution_count": 124,
   "id": "ac69a35d",
   "metadata": {},
   "outputs": [
    {
     "data": {
      "text/plain": [
       "3"
      ]
     },
     "execution_count": 124,
     "metadata": {},
     "output_type": "execute_result"
    }
   ],
   "source": [
    "x =  shopping_carts.isnull().sum().sum()\n",
    "x"
   ]
  },
  {
   "cell_type": "code",
   "execution_count": 125,
   "id": "a483826b",
   "metadata": {},
   "outputs": [
    {
     "data": {
      "text/html": [
       "<div>\n",
       "<style scoped>\n",
       "    .dataframe tbody tr th:only-of-type {\n",
       "        vertical-align: middle;\n",
       "    }\n",
       "\n",
       "    .dataframe tbody tr th {\n",
       "        vertical-align: top;\n",
       "    }\n",
       "\n",
       "    .dataframe thead th {\n",
       "        text-align: right;\n",
       "    }\n",
       "</style>\n",
       "<table border=\"1\" class=\"dataframe\">\n",
       "  <thead>\n",
       "    <tr style=\"text-align: right;\">\n",
       "      <th></th>\n",
       "      <th>Bob</th>\n",
       "      <th>Alice</th>\n",
       "    </tr>\n",
       "  </thead>\n",
       "  <tbody>\n",
       "    <tr>\n",
       "      <th>bike</th>\n",
       "      <td>False</td>\n",
       "      <td>False</td>\n",
       "    </tr>\n",
       "    <tr>\n",
       "      <th>book</th>\n",
       "      <td>True</td>\n",
       "      <td>False</td>\n",
       "    </tr>\n",
       "    <tr>\n",
       "      <th>glasses</th>\n",
       "      <td>True</td>\n",
       "      <td>False</td>\n",
       "    </tr>\n",
       "    <tr>\n",
       "      <th>pants</th>\n",
       "      <td>False</td>\n",
       "      <td>False</td>\n",
       "    </tr>\n",
       "    <tr>\n",
       "      <th>watch</th>\n",
       "      <td>False</td>\n",
       "      <td>True</td>\n",
       "    </tr>\n",
       "  </tbody>\n",
       "</table>\n",
       "</div>"
      ],
      "text/plain": [
       "           Bob  Alice\n",
       "bike     False  False\n",
       "book      True  False\n",
       "glasses   True  False\n",
       "pants    False  False\n",
       "watch    False   True"
      ]
     },
     "execution_count": 125,
     "metadata": {},
     "output_type": "execute_result"
    }
   ],
   "source": [
    "shopping_carts.isnull()\n"
   ]
  },
  {
   "cell_type": "code",
   "execution_count": 130,
   "id": "46494260",
   "metadata": {},
   "outputs": [
    {
     "name": "stdout",
     "output_type": "stream",
     "text": [
      "         Bob  Alice\n",
      "bike   245.0  500.0\n",
      "pants   25.0   45.0\n"
     ]
    }
   ],
   "source": [
    "# drop any row with NaN value\n",
    "print(shopping_carts.dropna(axis = 0))\n"
   ]
  },
  {
   "cell_type": "code",
   "execution_count": 131,
   "id": "32851aa7",
   "metadata": {},
   "outputs": [
    {
     "name": "stdout",
     "output_type": "stream",
     "text": [
      "Empty DataFrame\n",
      "Columns: []\n",
      "Index: [bike, book, glasses, pants, watch]\n"
     ]
    }
   ],
   "source": [
    "# drop any column with NaN value\n",
    "print(shopping_carts.dropna(axis = 1))\n"
   ]
  },
  {
   "cell_type": "code",
   "execution_count": null,
   "id": "25956ca7",
   "metadata": {},
   "outputs": [],
   "source": []
  }
 ],
 "metadata": {
  "kernelspec": {
   "display_name": "Python 3 (ipykernel)",
   "language": "python",
   "name": "python3"
  },
  "language_info": {
   "codemirror_mode": {
    "name": "ipython",
    "version": 3
   },
   "file_extension": ".py",
   "mimetype": "text/x-python",
   "name": "python",
   "nbconvert_exporter": "python",
   "pygments_lexer": "ipython3",
   "version": "3.9.13"
  }
 },
 "nbformat": 4,
 "nbformat_minor": 5
}

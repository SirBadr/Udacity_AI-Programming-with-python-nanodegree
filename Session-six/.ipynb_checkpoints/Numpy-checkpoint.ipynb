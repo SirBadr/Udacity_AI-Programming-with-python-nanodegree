{
 "cells": [
  {
   "cell_type": "markdown",
   "id": "dff6e289",
   "metadata": {},
   "source": [
    "\n",
    "# Hola everyone :D.\n",
    "## This is a jupyter notebook for session six in udacity AI programming with python nano degree\n",
    "### Here we will explore Numpy package and how awesome it is for us :D\n"
   ]
  },
  {
   "cell_type": "markdown",
   "id": "cb73d611",
   "metadata": {},
   "source": [
    "# So first question is, why numpy?\n"
   ]
  },
  {
   "cell_type": "code",
   "execution_count": 1,
   "id": "f1d8bc2e",
   "metadata": {},
   "outputs": [],
   "source": [
    "import numpy as np"
   ]
  },
  {
   "cell_type": "markdown",
   "id": "ab360b7e",
   "metadata": {},
   "source": [
    "Ok let's try to do a comparison between python and numpy in a matrix multiplication operation ( something you will do extensively when AI programming ) :D\n",
    "\n",
    "First let's compare initialization time for python and numpy :D"
   ]
  },
  {
   "cell_type": "code",
   "execution_count": 26,
   "id": "2072b307",
   "metadata": {},
   "outputs": [
    {
     "name": "stdout",
     "output_type": "stream",
     "text": [
      "4.68 µs ± 38.9 ns per loop (mean ± std. dev. of 7 runs, 100,000 loops each)\n"
     ]
    }
   ],
   "source": [
    "%%timeit\n",
    "\n",
    "rows, cols = (1000, 1000)\n",
    "arr = [[1]*cols]*rows\n",
    "\n",
    "numrows = len(arr)    \n",
    "numcols = len(arr[0])"
   ]
  },
  {
   "cell_type": "code",
   "execution_count": 23,
   "id": "23067428",
   "metadata": {},
   "outputs": [
    {
     "name": "stdout",
     "output_type": "stream",
     "text": [
      "1000\n",
      "1000\n"
     ]
    }
   ],
   "source": [
    "print(numrows)\n",
    "print(numcols)"
   ]
  },
  {
   "cell_type": "code",
   "execution_count": 29,
   "id": "c1a58a3c",
   "metadata": {},
   "outputs": [
    {
     "name": "stdout",
     "output_type": "stream",
     "text": [
      "178 µs ± 3.74 µs per loop (mean ± std. dev. of 7 runs, 1,000 loops each)\n"
     ]
    }
   ],
   "source": [
    "%%timeit\n",
    "\n",
    "a = np.ones(shape=(1000, 1000))\n"
   ]
  },
  {
   "cell_type": "code",
   "execution_count": 30,
   "id": "3250b835",
   "metadata": {},
   "outputs": [],
   "source": [
    "a = np.ones(shape=(1000, 1000))"
   ]
  },
  {
   "cell_type": "code",
   "execution_count": 39,
   "id": "63d1076d",
   "metadata": {},
   "outputs": [],
   "source": [
    "def python_matMul(mat1, mat2, result):\n",
    "    # iterating by row of A\n",
    "    for i in range(len(mat1)):\n",
    "\n",
    "        # iterating by column by B\n",
    "        for j in range(len(mat2[0])):\n",
    "\n",
    "            # iterating by rows of B\n",
    "            for k in range(len(mat2)):\n",
    "                result[i][j] += mat1[i][k] * mat2[k][j]"
   ]
  },
  {
   "cell_type": "code",
   "execution_count": 41,
   "id": "37324a9d",
   "metadata": {
    "scrolled": true
   },
   "outputs": [
    {
     "ename": "KeyboardInterrupt",
     "evalue": "",
     "output_type": "error",
     "traceback": [
      "\u001b[0;31m---------------------------------------------------------------------------\u001b[0m",
      "\u001b[0;31mKeyboardInterrupt\u001b[0m                         Traceback (most recent call last)",
      "Input \u001b[0;32mIn [41]\u001b[0m, in \u001b[0;36m<cell line: 4>\u001b[0;34m()\u001b[0m\n\u001b[1;32m      1\u001b[0m rows, cols \u001b[38;5;241m=\u001b[39m (\u001b[38;5;241m1000\u001b[39m, \u001b[38;5;241m1000\u001b[39m)\n\u001b[1;32m      2\u001b[0m result \u001b[38;5;241m=\u001b[39m [[\u001b[38;5;241m1\u001b[39m]\u001b[38;5;241m*\u001b[39mcols]\u001b[38;5;241m*\u001b[39mrows\n\u001b[0;32m----> 4\u001b[0m \u001b[43mget_ipython\u001b[49m\u001b[43m(\u001b[49m\u001b[43m)\u001b[49m\u001b[38;5;241;43m.\u001b[39;49m\u001b[43mrun_line_magic\u001b[49m\u001b[43m(\u001b[49m\u001b[38;5;124;43m'\u001b[39;49m\u001b[38;5;124;43mtimeit\u001b[39;49m\u001b[38;5;124;43m'\u001b[39;49m\u001b[43m,\u001b[49m\u001b[43m \u001b[49m\u001b[38;5;124;43m'\u001b[39;49m\u001b[38;5;124;43mpython_matMul(arr, arr, result)\u001b[39;49m\u001b[38;5;124;43m'\u001b[39;49m\u001b[43m)\u001b[49m\n",
      "File \u001b[0;32m~/opt/anaconda3/envs/session6/lib/python3.10/site-packages/IPython/core/interactiveshell.py:2305\u001b[0m, in \u001b[0;36mInteractiveShell.run_line_magic\u001b[0;34m(self, magic_name, line, _stack_depth)\u001b[0m\n\u001b[1;32m   2303\u001b[0m     kwargs[\u001b[38;5;124m'\u001b[39m\u001b[38;5;124mlocal_ns\u001b[39m\u001b[38;5;124m'\u001b[39m] \u001b[38;5;241m=\u001b[39m \u001b[38;5;28mself\u001b[39m\u001b[38;5;241m.\u001b[39mget_local_scope(stack_depth)\n\u001b[1;32m   2304\u001b[0m \u001b[38;5;28;01mwith\u001b[39;00m \u001b[38;5;28mself\u001b[39m\u001b[38;5;241m.\u001b[39mbuiltin_trap:\n\u001b[0;32m-> 2305\u001b[0m     result \u001b[38;5;241m=\u001b[39m \u001b[43mfn\u001b[49m\u001b[43m(\u001b[49m\u001b[38;5;241;43m*\u001b[39;49m\u001b[43margs\u001b[49m\u001b[43m,\u001b[49m\u001b[43m \u001b[49m\u001b[38;5;241;43m*\u001b[39;49m\u001b[38;5;241;43m*\u001b[39;49m\u001b[43mkwargs\u001b[49m\u001b[43m)\u001b[49m\n\u001b[1;32m   2306\u001b[0m \u001b[38;5;28;01mreturn\u001b[39;00m result\n",
      "File \u001b[0;32m~/opt/anaconda3/envs/session6/lib/python3.10/site-packages/IPython/core/magics/execution.py:1166\u001b[0m, in \u001b[0;36mExecutionMagics.timeit\u001b[0;34m(self, line, cell, local_ns)\u001b[0m\n\u001b[1;32m   1163\u001b[0m         \u001b[38;5;28;01mif\u001b[39;00m time_number \u001b[38;5;241m>\u001b[39m\u001b[38;5;241m=\u001b[39m \u001b[38;5;241m0.2\u001b[39m:\n\u001b[1;32m   1164\u001b[0m             \u001b[38;5;28;01mbreak\u001b[39;00m\n\u001b[0;32m-> 1166\u001b[0m all_runs \u001b[38;5;241m=\u001b[39m \u001b[43mtimer\u001b[49m\u001b[38;5;241;43m.\u001b[39;49m\u001b[43mrepeat\u001b[49m\u001b[43m(\u001b[49m\u001b[43mrepeat\u001b[49m\u001b[43m,\u001b[49m\u001b[43m \u001b[49m\u001b[43mnumber\u001b[49m\u001b[43m)\u001b[49m\n\u001b[1;32m   1167\u001b[0m best \u001b[38;5;241m=\u001b[39m \u001b[38;5;28mmin\u001b[39m(all_runs) \u001b[38;5;241m/\u001b[39m number\n\u001b[1;32m   1168\u001b[0m worst \u001b[38;5;241m=\u001b[39m \u001b[38;5;28mmax\u001b[39m(all_runs) \u001b[38;5;241m/\u001b[39m number\n",
      "File \u001b[0;32m~/opt/anaconda3/envs/session6/lib/python3.10/timeit.py:206\u001b[0m, in \u001b[0;36mTimer.repeat\u001b[0;34m(self, repeat, number)\u001b[0m\n\u001b[1;32m    204\u001b[0m r \u001b[38;5;241m=\u001b[39m []\n\u001b[1;32m    205\u001b[0m \u001b[38;5;28;01mfor\u001b[39;00m i \u001b[38;5;129;01min\u001b[39;00m \u001b[38;5;28mrange\u001b[39m(repeat):\n\u001b[0;32m--> 206\u001b[0m     t \u001b[38;5;241m=\u001b[39m \u001b[38;5;28;43mself\u001b[39;49m\u001b[38;5;241;43m.\u001b[39;49m\u001b[43mtimeit\u001b[49m\u001b[43m(\u001b[49m\u001b[43mnumber\u001b[49m\u001b[43m)\u001b[49m\n\u001b[1;32m    207\u001b[0m     r\u001b[38;5;241m.\u001b[39mappend(t)\n\u001b[1;32m    208\u001b[0m \u001b[38;5;28;01mreturn\u001b[39;00m r\n",
      "File \u001b[0;32m~/opt/anaconda3/envs/session6/lib/python3.10/site-packages/IPython/core/magics/execution.py:156\u001b[0m, in \u001b[0;36mTimer.timeit\u001b[0;34m(self, number)\u001b[0m\n\u001b[1;32m    154\u001b[0m gc\u001b[38;5;241m.\u001b[39mdisable()\n\u001b[1;32m    155\u001b[0m \u001b[38;5;28;01mtry\u001b[39;00m:\n\u001b[0;32m--> 156\u001b[0m     timing \u001b[38;5;241m=\u001b[39m \u001b[38;5;28;43mself\u001b[39;49m\u001b[38;5;241;43m.\u001b[39;49m\u001b[43minner\u001b[49m\u001b[43m(\u001b[49m\u001b[43mit\u001b[49m\u001b[43m,\u001b[49m\u001b[43m \u001b[49m\u001b[38;5;28;43mself\u001b[39;49m\u001b[38;5;241;43m.\u001b[39;49m\u001b[43mtimer\u001b[49m\u001b[43m)\u001b[49m\n\u001b[1;32m    157\u001b[0m \u001b[38;5;28;01mfinally\u001b[39;00m:\n\u001b[1;32m    158\u001b[0m     \u001b[38;5;28;01mif\u001b[39;00m gcold:\n",
      "File \u001b[0;32m<magic-timeit>:1\u001b[0m, in \u001b[0;36minner\u001b[0;34m(_it, _timer)\u001b[0m\n",
      "Input \u001b[0;32mIn [39]\u001b[0m, in \u001b[0;36mpython_matMul\u001b[0;34m(mat1, mat2, result)\u001b[0m\n\u001b[1;32m      6\u001b[0m \u001b[38;5;28;01mfor\u001b[39;00m j \u001b[38;5;129;01min\u001b[39;00m \u001b[38;5;28mrange\u001b[39m(\u001b[38;5;28mlen\u001b[39m(mat2[\u001b[38;5;241m0\u001b[39m])):\n\u001b[1;32m      7\u001b[0m \n\u001b[1;32m      8\u001b[0m     \u001b[38;5;66;03m# iterating by rows of B\u001b[39;00m\n\u001b[1;32m      9\u001b[0m     \u001b[38;5;28;01mfor\u001b[39;00m k \u001b[38;5;129;01min\u001b[39;00m \u001b[38;5;28mrange\u001b[39m(\u001b[38;5;28mlen\u001b[39m(mat2)):\n\u001b[0;32m---> 10\u001b[0m         result[i][j] \u001b[38;5;241m+\u001b[39m\u001b[38;5;241m=\u001b[39m mat1[i][k] \u001b[38;5;241m*\u001b[39m mat2[k][j]\n",
      "\u001b[0;31mKeyboardInterrupt\u001b[0m: "
     ]
    }
   ],
   "source": [
    "rows, cols = (1000, 1000)\n",
    "result = [[1]*cols]*rows\n",
    "\n",
    "%timeit python_matMul(arr, arr, result)"
   ]
  },
  {
   "cell_type": "code",
   "execution_count": 42,
   "id": "561601f1",
   "metadata": {},
   "outputs": [
    {
     "name": "stdout",
     "output_type": "stream",
     "text": [
      "29.2 ms ± 1.87 ms per loop (mean ± std. dev. of 7 runs, 10 loops each)\n"
     ]
    }
   ],
   "source": [
    "%timeit res = np.dot(a,a)"
   ]
  },
  {
   "cell_type": "markdown",
   "id": "8e8af37e",
   "metadata": {},
   "source": [
    "## Awesome, now we know why numpy, let's now see how can we create arrays with numpy and do some magic with them :D"
   ]
  },
  {
   "cell_type": "code",
   "execution_count": 49,
   "id": "458dc32b",
   "metadata": {},
   "outputs": [
    {
     "name": "stdout",
     "output_type": "stream",
     "text": [
      "[[1 1 1]\n",
      " [1 1 1]]\n",
      "[[1. 1. 1.]\n",
      " [1. 1. 1.]]\n",
      "[[1 1 1]\n",
      " [1 1 1]]\n"
     ]
    }
   ],
   "source": [
    "arr1 = np.ones(shape=(2,3), dtype = np.int64)\n",
    "arr2 = np.ones(shape=(2,3), dtype = np.float64)\n",
    "arr3 = np.ones(shape=(2,3), dtype = np.uint64)\n",
    "\n",
    "print(arr1)\n",
    "print(arr2)\n",
    "print(arr3)"
   ]
  },
  {
   "cell_type": "code",
   "execution_count": 51,
   "id": "76f60ee2",
   "metadata": {},
   "outputs": [
    {
     "name": "stdout",
     "output_type": "stream",
     "text": [
      "[[1 1 1]\n",
      " [1 2 1]]\n"
     ]
    }
   ],
   "source": [
    "arr1[1][1] = 2\n",
    "print(arr1)"
   ]
  },
  {
   "cell_type": "code",
   "execution_count": 54,
   "id": "98bcf8f3",
   "metadata": {},
   "outputs": [
    {
     "name": "stdout",
     "output_type": "stream",
     "text": [
      "[[1 1 1]\n",
      " [1 1 1]]\n"
     ]
    }
   ],
   "source": [
    "arr1[1][1] = 1.4   # cuz arr1 is of type int\n",
    "print(arr1)"
   ]
  },
  {
   "cell_type": "code",
   "execution_count": 56,
   "id": "62735c5f",
   "metadata": {},
   "outputs": [
    {
     "name": "stdout",
     "output_type": "stream",
     "text": [
      "[[                   1                    1                    1]\n",
      " [                   1 18446744073709551615                    1]]\n"
     ]
    }
   ],
   "source": [
    "arr3[1][1] = -1\n",
    "print(arr3)"
   ]
  },
  {
   "cell_type": "code",
   "execution_count": 57,
   "id": "6361511c",
   "metadata": {},
   "outputs": [
    {
     "name": "stdout",
     "output_type": "stream",
     "text": [
      "(2, 3)\n"
     ]
    }
   ],
   "source": [
    "print(arr3.shape)"
   ]
  },
  {
   "cell_type": "code",
   "execution_count": 62,
   "id": "27715a7e",
   "metadata": {},
   "outputs": [
    {
     "name": "stdout",
     "output_type": "stream",
     "text": [
      "[[[1 1]\n",
      "  [1 1]]\n",
      "\n",
      " [[1 1]\n",
      "  [1 1]]]\n"
     ]
    }
   ],
   "source": [
    "arr4 = np.ones(shape=(2,2,2), dtype = np.int64)\n",
    "print(arr4)"
   ]
  },
  {
   "cell_type": "code",
   "execution_count": 68,
   "id": "e0acdc4a",
   "metadata": {},
   "outputs": [
    {
     "name": "stdout",
     "output_type": "stream",
     "text": [
      "3\n",
      "2\n",
      "uint64\n",
      "int64\n"
     ]
    }
   ],
   "source": [
    "print(arr4.ndim)\n",
    "print(arr3.ndim)\n",
    "print(arr3.dtype)\n",
    "print(arr4.dtype)"
   ]
  },
  {
   "cell_type": "code",
   "execution_count": 72,
   "id": "bd747801",
   "metadata": {},
   "outputs": [
    {
     "name": "stdout",
     "output_type": "stream",
     "text": [
      "[[0 0 0]\n",
      " [0 0 0]]\n"
     ]
    }
   ],
   "source": [
    "arr5 = np.zeros(shape=(2,3), dtype =np.int64)\n",
    "print(arr5)"
   ]
  },
  {
   "cell_type": "code",
   "execution_count": 73,
   "id": "f848cd5c",
   "metadata": {},
   "outputs": [
    {
     "name": "stdout",
     "output_type": "stream",
     "text": [
      "[[1 1 1]\n",
      " [1 1 1]]\n"
     ]
    }
   ],
   "source": [
    "arr6 = np.ones(shape=(2,3), dtype = np.int64)\n",
    "print(arr6)"
   ]
  },
  {
   "cell_type": "code",
   "execution_count": 97,
   "id": "fe9ccca9",
   "metadata": {},
   "outputs": [
    {
     "name": "stdout",
     "output_type": "stream",
     "text": [
      "[[0.3586029  0.49506747 0.44341196]\n",
      " [0.76103901 0.38232541 0.47896584]]\n"
     ]
    }
   ],
   "source": [
    "arrx = np.random.rand(2,3)\n",
    "print(arrx)"
   ]
  },
  {
   "cell_type": "code",
   "execution_count": 100,
   "id": "5067acb4",
   "metadata": {},
   "outputs": [
    {
     "name": "stdout",
     "output_type": "stream",
     "text": [
      "[[2 4 3]\n",
      " [2 2 3]]\n"
     ]
    }
   ],
   "source": [
    "arrx = np.random.randint(1, high=5, size=(2,3), dtype=int)\n",
    "print(arrx)"
   ]
  },
  {
   "cell_type": "markdown",
   "id": "3e9ad2e0",
   "metadata": {},
   "source": [
    "### Numpy arrays concatenation"
   ]
  },
  {
   "cell_type": "code",
   "execution_count": 81,
   "id": "20a8e61b",
   "metadata": {},
   "outputs": [
    {
     "name": "stdout",
     "output_type": "stream",
     "text": [
      "[[0 0 0]\n",
      " [0 0 0]\n",
      " [1 1 1]\n",
      " [1 1 1]]\n"
     ]
    }
   ],
   "source": [
    "arr7 = np.concatenate([arr5, arr6], axis = 0)\n",
    "print(arr7)"
   ]
  },
  {
   "cell_type": "code",
   "execution_count": 82,
   "id": "00743a9b",
   "metadata": {},
   "outputs": [
    {
     "name": "stdout",
     "output_type": "stream",
     "text": [
      "[[0 0 0 1 1 1]\n",
      " [0 0 0 1 1 1]]\n"
     ]
    }
   ],
   "source": [
    "arr8 = np.concatenate([arr5, arr6], axis = 1)\n",
    "print(arr8)"
   ]
  },
  {
   "cell_type": "code",
   "execution_count": 83,
   "id": "5f65efa4",
   "metadata": {},
   "outputs": [
    {
     "name": "stdout",
     "output_type": "stream",
     "text": [
      "[0 0 0 0 0 0 1 1 1 1 1 1]\n"
     ]
    }
   ],
   "source": [
    "arr9 = np.concatenate([arr5, arr6], axis = None)\n",
    "print(arr9)"
   ]
  },
  {
   "cell_type": "markdown",
   "id": "6382f5b9",
   "metadata": {},
   "source": [
    "### convert type of numpy arrays :D"
   ]
  },
  {
   "cell_type": "code",
   "execution_count": 85,
   "id": "a80e41b2",
   "metadata": {},
   "outputs": [
    {
     "name": "stdout",
     "output_type": "stream",
     "text": [
      "[[1.  1.  1. ]\n",
      " [1.  5.5 1. ]]\n"
     ]
    }
   ],
   "source": [
    "arr10 = np.ones(shape=(2,3), dtype=np.float32)\n",
    "arr10[1][1] = 5.5\n",
    "\n",
    "print(arr10)"
   ]
  },
  {
   "cell_type": "code",
   "execution_count": 88,
   "id": "3dc743ce",
   "metadata": {},
   "outputs": [
    {
     "name": "stdout",
     "output_type": "stream",
     "text": [
      "[[1 1 1]\n",
      " [1 5 1]]\n"
     ]
    }
   ],
   "source": [
    "arr10 = arr10.astype(np.int64)\n",
    "print(arr10)"
   ]
  },
  {
   "cell_type": "markdown",
   "id": "566589b0",
   "metadata": {},
   "source": [
    "### Create similar numpy arrays"
   ]
  },
  {
   "cell_type": "code",
   "execution_count": 91,
   "id": "de2a0a40",
   "metadata": {},
   "outputs": [
    {
     "name": "stdout",
     "output_type": "stream",
     "text": [
      "[[1. 1. 1.]\n",
      " [1. 1. 1.]]\n"
     ]
    }
   ],
   "source": [
    "arr11 = np.ones((2,3))\n",
    "print(arr11)"
   ]
  },
  {
   "cell_type": "code",
   "execution_count": 92,
   "id": "e7bfeb5a",
   "metadata": {},
   "outputs": [
    {
     "name": "stdout",
     "output_type": "stream",
     "text": [
      "[[0. 0. 0.]\n",
      " [0. 0. 0.]]\n"
     ]
    }
   ],
   "source": [
    "arr12 = np.zeros_like(arr11)\n",
    "print(arr12)"
   ]
  },
  {
   "cell_type": "code",
   "execution_count": 93,
   "id": "d2b1db9f",
   "metadata": {},
   "outputs": [
    {
     "name": "stdout",
     "output_type": "stream",
     "text": [
      "[[1. 1. 1.]\n",
      " [1. 1. 1.]]\n"
     ]
    }
   ],
   "source": [
    "arr13 = np.ones_like(arr11)\n",
    "print(arr13)"
   ]
  },
  {
   "cell_type": "code",
   "execution_count": 102,
   "id": "3b0d3282",
   "metadata": {
    "scrolled": true
   },
   "outputs": [
    {
     "name": "stdout",
     "output_type": "stream",
     "text": [
      "[[0.50217733 0.11553707 0.87135965]\n",
      " [0.61713825 0.09447975 0.44277831]\n",
      " [0.97316617 0.3564178  0.55959231]]\n"
     ]
    }
   ],
   "source": [
    "arr14 = np.random.random((3,3))\n",
    "print(arr14)"
   ]
  },
  {
   "cell_type": "markdown",
   "id": "295deaa1",
   "metadata": {},
   "source": [
    "### Arrays constaints :D\n",
    "\n",
    "#### take care "
   ]
  },
  {
   "cell_type": "markdown",
   "id": "ccc58cf0",
   "metadata": {},
   "source": [
    "You can't append two numpy arrays with different sizes :/"
   ]
  },
  {
   "cell_type": "code",
   "execution_count": 104,
   "id": "718754cf",
   "metadata": {},
   "outputs": [
    {
     "ename": "ValueError",
     "evalue": "operands could not be broadcast together with shapes (7,8) (2,3) ",
     "output_type": "error",
     "traceback": [
      "\u001b[0;31m---------------------------------------------------------------------------\u001b[0m",
      "\u001b[0;31mValueError\u001b[0m                                Traceback (most recent call last)",
      "Input \u001b[0;32mIn [104]\u001b[0m, in \u001b[0;36m<cell line: 1>\u001b[0;34m()\u001b[0m\n\u001b[0;32m----> 1\u001b[0m \u001b[43mnp\u001b[49m\u001b[38;5;241;43m.\u001b[39;49m\u001b[43mones\u001b[49m\u001b[43m(\u001b[49m\u001b[43m[\u001b[49m\u001b[38;5;241;43m7\u001b[39;49m\u001b[43m,\u001b[49m\u001b[38;5;241;43m8\u001b[39;49m\u001b[43m]\u001b[49m\u001b[43m)\u001b[49m\u001b[43m \u001b[49m\u001b[38;5;241;43m+\u001b[39;49m\u001b[43m \u001b[49m\u001b[43mnp\u001b[49m\u001b[38;5;241;43m.\u001b[39;49m\u001b[43mones\u001b[49m\u001b[43m(\u001b[49m\u001b[43m[\u001b[49m\u001b[38;5;241;43m2\u001b[39;49m\u001b[43m,\u001b[49m\u001b[38;5;241;43m3\u001b[39;49m\u001b[43m]\u001b[49m\u001b[43m)\u001b[49m\n",
      "\u001b[0;31mValueError\u001b[0m: operands could not be broadcast together with shapes (7,8) (2,3) "
     ]
    }
   ],
   "source": [
    "np.ones([7,8]) + np.ones([2,3])"
   ]
  },
  {
   "cell_type": "markdown",
   "id": "7d2eff3d",
   "metadata": {},
   "source": [
    "arrays must be only one Type, unlike python lists that contain multiple types"
   ]
  },
  {
   "cell_type": "code",
   "execution_count": 105,
   "id": "75b4e984",
   "metadata": {},
   "outputs": [],
   "source": [
    "lst = [1, 1.5, \"Hello\"]"
   ]
  },
  {
   "cell_type": "code",
   "execution_count": 109,
   "id": "20ce23d6",
   "metadata": {},
   "outputs": [
    {
     "name": "stdout",
     "output_type": "stream",
     "text": [
      "[[1 1 1]\n",
      " [1 1 1]]\n"
     ]
    }
   ],
   "source": [
    "arr_x = np.ones([2,3], dtype = np.int64)\n",
    "print(arr_x)"
   ]
  },
  {
   "cell_type": "code",
   "execution_count": 110,
   "id": "1a78d4c7",
   "metadata": {},
   "outputs": [
    {
     "ename": "ValueError",
     "evalue": "invalid literal for int() with base 10: 'Hello ?!'",
     "output_type": "error",
     "traceback": [
      "\u001b[0;31m---------------------------------------------------------------------------\u001b[0m",
      "\u001b[0;31mValueError\u001b[0m                                Traceback (most recent call last)",
      "Input \u001b[0;32mIn [110]\u001b[0m, in \u001b[0;36m<cell line: 1>\u001b[0;34m()\u001b[0m\n\u001b[0;32m----> 1\u001b[0m arr_x[\u001b[38;5;241m1\u001b[39m][\u001b[38;5;241m1\u001b[39m] \u001b[38;5;241m=\u001b[39m \u001b[38;5;124m\"\u001b[39m\u001b[38;5;124mHello ?!\u001b[39m\u001b[38;5;124m\"\u001b[39m\n",
      "\u001b[0;31mValueError\u001b[0m: invalid literal for int() with base 10: 'Hello ?!'"
     ]
    }
   ],
   "source": [
    "arr_x[1][1] = \"Hello ?!\""
   ]
  },
  {
   "cell_type": "code",
   "execution_count": 111,
   "id": "b752ec6e",
   "metadata": {},
   "outputs": [
    {
     "name": "stdout",
     "output_type": "stream",
     "text": [
      "[[1 1 1]\n",
      " [1 5 1]]\n"
     ]
    }
   ],
   "source": [
    "arr_x[1][1] = 5.4231543\n",
    "print(arr_x)"
   ]
  },
  {
   "cell_type": "markdown",
   "id": "68a12a60",
   "metadata": {},
   "source": [
    "## Shaping"
   ]
  },
  {
   "cell_type": "code",
   "execution_count": 113,
   "id": "7fef1a1f",
   "metadata": {},
   "outputs": [
    {
     "name": "stdout",
     "output_type": "stream",
     "text": [
      "[[1. 1. 1.]\n",
      " [1. 1. 1.]\n",
      " [1. 1. 1.]]\n"
     ]
    }
   ],
   "source": [
    "a = np.ones([3,3])\n",
    "print(a)"
   ]
  },
  {
   "cell_type": "markdown",
   "id": "4564a10a",
   "metadata": {},
   "source": [
    "array \"a\" has 9 elements ( 3 rows * 3 columns)\n",
    "\n",
    "you can reshape but (number of rows * number of columns) must be == 9 "
   ]
  },
  {
   "cell_type": "code",
   "execution_count": 116,
   "id": "42d8c255",
   "metadata": {},
   "outputs": [
    {
     "name": "stdout",
     "output_type": "stream",
     "text": [
      "[[1. 1. 1. 1. 1. 1. 1. 1. 1.]]\n"
     ]
    }
   ],
   "source": [
    "a = a.reshape(1,9)\n",
    "print(a)"
   ]
  },
  {
   "cell_type": "code",
   "execution_count": 117,
   "id": "c788ddc4",
   "metadata": {},
   "outputs": [
    {
     "ename": "ValueError",
     "evalue": "cannot reshape array of size 9 into shape (2,19)",
     "output_type": "error",
     "traceback": [
      "\u001b[0;31m---------------------------------------------------------------------------\u001b[0m",
      "\u001b[0;31mValueError\u001b[0m                                Traceback (most recent call last)",
      "Input \u001b[0;32mIn [117]\u001b[0m, in \u001b[0;36m<cell line: 1>\u001b[0;34m()\u001b[0m\n\u001b[0;32m----> 1\u001b[0m a \u001b[38;5;241m=\u001b[39m \u001b[43ma\u001b[49m\u001b[38;5;241;43m.\u001b[39;49m\u001b[43mreshape\u001b[49m\u001b[43m(\u001b[49m\u001b[38;5;241;43m2\u001b[39;49m\u001b[43m,\u001b[49m\u001b[38;5;241;43m19\u001b[39;49m\u001b[43m)\u001b[49m\n",
      "\u001b[0;31mValueError\u001b[0m: cannot reshape array of size 9 into shape (2,19)"
     ]
    }
   ],
   "source": [
    "a = a.reshape(2,19)"
   ]
  },
  {
   "cell_type": "code",
   "execution_count": 118,
   "id": "e627c1a0",
   "metadata": {},
   "outputs": [],
   "source": [
    "b = np.ones([1923, 1385])"
   ]
  },
  {
   "cell_type": "markdown",
   "id": "cc645a4d",
   "metadata": {},
   "source": [
    "### what if you want to reshape \"b\" to have 3 rows, but you don't know how many columns to make it work ?\n",
    "\n",
    "and vice verca"
   ]
  },
  {
   "cell_type": "code",
   "execution_count": 120,
   "id": "9ae44fe8",
   "metadata": {},
   "outputs": [
    {
     "name": "stdout",
     "output_type": "stream",
     "text": [
      "(3, 887785)\n"
     ]
    }
   ],
   "source": [
    "b = b.reshape(3, -1)\n",
    "print(b.shape)"
   ]
  },
  {
   "cell_type": "code",
   "execution_count": 121,
   "id": "47d445de",
   "metadata": {},
   "outputs": [
    {
     "name": "stdout",
     "output_type": "stream",
     "text": [
      "(887785, 3)\n"
     ]
    }
   ],
   "source": [
    "b = b.reshape(-1, 3)\n",
    "print(b.shape)"
   ]
  },
  {
   "cell_type": "code",
   "execution_count": 122,
   "id": "3f220bb4",
   "metadata": {},
   "outputs": [
    {
     "ename": "ValueError",
     "evalue": "cannot reshape array of size 2663355 into shape (2)",
     "output_type": "error",
     "traceback": [
      "\u001b[0;31m---------------------------------------------------------------------------\u001b[0m",
      "\u001b[0;31mValueError\u001b[0m                                Traceback (most recent call last)",
      "Input \u001b[0;32mIn [122]\u001b[0m, in \u001b[0;36m<cell line: 1>\u001b[0;34m()\u001b[0m\n\u001b[0;32m----> 1\u001b[0m b \u001b[38;5;241m=\u001b[39m \u001b[43mb\u001b[49m\u001b[38;5;241;43m.\u001b[39;49m\u001b[43mreshape\u001b[49m\u001b[43m(\u001b[49m\u001b[38;5;241;43m-\u001b[39;49m\u001b[38;5;241;43m1\u001b[39;49m\u001b[43m,\u001b[49m\u001b[43m \u001b[49m\u001b[38;5;241;43m2\u001b[39;49m\u001b[43m)\u001b[49m\n",
      "\u001b[0;31mValueError\u001b[0m: cannot reshape array of size 2663355 into shape (2)"
     ]
    }
   ],
   "source": [
    "b = b.reshape(-1, 2)"
   ]
  },
  {
   "cell_type": "markdown",
   "id": "59c924fb",
   "metadata": {},
   "source": [
    "## Transposition"
   ]
  },
  {
   "cell_type": "code",
   "execution_count": 124,
   "id": "0da8f767",
   "metadata": {},
   "outputs": [
    {
     "name": "stdout",
     "output_type": "stream",
     "text": [
      "[[1. 1. 1.]\n",
      " [1. 1. 1.]]\n"
     ]
    }
   ],
   "source": [
    "a = np.ones([2,3])\n",
    "print(a)"
   ]
  },
  {
   "cell_type": "code",
   "execution_count": 125,
   "id": "76654f49",
   "metadata": {},
   "outputs": [
    {
     "name": "stdout",
     "output_type": "stream",
     "text": [
      "[[1. 1.]\n",
      " [1. 1.]\n",
      " [1. 1.]]\n"
     ]
    }
   ],
   "source": [
    "a = a.T\n",
    "print(a)"
   ]
  },
  {
   "cell_type": "code",
   "execution_count": 129,
   "id": "f7c5069a",
   "metadata": {},
   "outputs": [
    {
     "name": "stdout",
     "output_type": "stream",
     "text": [
      "(1, 2, 3, 4)\n"
     ]
    }
   ],
   "source": [
    "a = np.ones([1,2,3,4])\n",
    "print(a.shape)"
   ]
  },
  {
   "cell_type": "code",
   "execution_count": 130,
   "id": "a44525a5",
   "metadata": {},
   "outputs": [
    {
     "name": "stdout",
     "output_type": "stream",
     "text": [
      "(4, 3, 2, 1)\n"
     ]
    }
   ],
   "source": [
    "a = a.T\n",
    "print(a.shape)"
   ]
  },
  {
   "cell_type": "markdown",
   "id": "c5090e60",
   "metadata": {},
   "source": [
    "## Mathematical Operations\n",
    "### Arithmetic operations"
   ]
  },
  {
   "cell_type": "code",
   "execution_count": null,
   "id": "8612b305",
   "metadata": {},
   "outputs": [],
   "source": []
  }
 ],
 "metadata": {
  "kernelspec": {
   "display_name": "Python 3 (ipykernel)",
   "language": "python",
   "name": "python3"
  },
  "language_info": {
   "codemirror_mode": {
    "name": "ipython",
    "version": 3
   },
   "file_extension": ".py",
   "mimetype": "text/x-python",
   "name": "python",
   "nbconvert_exporter": "python",
   "pygments_lexer": "ipython3",
   "version": "3.10.4"
  }
 },
 "nbformat": 4,
 "nbformat_minor": 5
}

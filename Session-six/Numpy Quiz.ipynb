{
 "cells": [
  {
   "cell_type": "markdown",
   "id": "24dfb45f",
   "metadata": {},
   "source": [
    "# Quiz One\n",
    "\n",
    "### Question #1:\n",
    "What gets printed?\n",
    "\n",
    "(a) 1, (b) 2, (c) 3, (d) 4, (e) 5\n"
   ]
  },
  {
   "cell_type": "code",
   "execution_count": 1,
   "id": "eb53a49f",
   "metadata": {},
   "outputs": [
    {
     "name": "stdout",
     "output_type": "stream",
     "text": [
      "3\n"
     ]
    }
   ],
   "source": [
    "import numpy as np\n",
    "\n",
    "ary = np.array([1,2,3,5,8])\n",
    "            #.  2,3,4,6,9\n",
    "ary = ary + 1\n",
    "\n",
    "print (ary[1])"
   ]
  },
  {
   "cell_type": "markdown",
   "id": "be9b2145",
   "metadata": {},
   "source": [
    "# Quiz Two\n",
    "\n",
    "### Question #2:\n",
    "What gets printed? \n",
    "\n",
    "(a) 7, \n",
    "(b) 12, \n",
    "(c) 10, \n",
    "(d) 21, \n",
    "(e) 28"
   ]
  },
  {
   "cell_type": "code",
   "execution_count": 2,
   "id": "b4125e6b",
   "metadata": {},
   "outputs": [
    {
     "name": "stdout",
     "output_type": "stream",
     "text": [
      "21\n"
     ]
    }
   ],
   "source": [
    "import numpy as np\n",
    "\n",
    "a = np.array([1,2,3,5,8])\n",
    "b = np.array([0,3,4,2,1])\n",
    "\n",
    "c = a + b   # c = [1,5,7,7,9]\n",
    "c = c*a     # c = [1,10,21,....]\n",
    "\n",
    "print (c[2])"
   ]
  },
  {
   "cell_type": "markdown",
   "id": "c59591fe",
   "metadata": {},
   "source": [
    "# Quiz Three\n",
    "\n",
    "### Question #3:\n",
    "What gets printed? \n",
    "\n",
    "(a) 0, (b) 1, (c) 2, (d) 3, (e) 5"
   ]
  },
  {
   "cell_type": "code",
   "execution_count": 3,
   "id": "ab948c22",
   "metadata": {},
   "outputs": [
    {
     "name": "stdout",
     "output_type": "stream",
     "text": [
      "1\n"
     ]
    }
   ],
   "source": [
    "import numpy as np\n",
    "\n",
    "a = np.array([1,2,3,5,8])\n",
    "print (a.ndim)\n"
   ]
  },
  {
   "cell_type": "markdown",
   "id": "cd62f58f",
   "metadata": {},
   "source": [
    "# Quiz Four:\n",
    "\n",
    "### Question #4:¶\n",
    "What gets printed? \n",
    "\n",
    "(a) 0, (b) 1, (c) 2, (d) 5, (e) 6"
   ]
  },
  {
   "cell_type": "code",
   "execution_count": 4,
   "id": "964ed6ae",
   "metadata": {},
   "outputs": [
    {
     "name": "stdout",
     "output_type": "stream",
     "text": [
      "6\n"
     ]
    }
   ],
   "source": [
    "import numpy as np\n",
    "\n",
    "a = np.array([[1,2,3],[0,1,4]])  # shape = 2 rows, 3 colums\n",
    "                                 # size = 2*3 = 6\n",
    "print (a.size)"
   ]
  },
  {
   "cell_type": "markdown",
   "id": "773f4b31",
   "metadata": {},
   "source": [
    "# Quiz Five\n",
    "\n",
    "### Question #5:\n",
    "What gets printed? \n",
    "\n",
    "(a) 0, (b) 1, (c) 5, (d) 8, (e) An exception is thrown"
   ]
  },
  {
   "cell_type": "code",
   "execution_count": null,
   "id": "13db7dc5",
   "metadata": {},
   "outputs": [],
   "source": [
    "import numpy as np\n",
    "\n",
    "a = np.array([[1,2,3],[0,1,4]])\n",
    "b = np.zeros((2,3), dtype=np.int16)\n",
    "c = np.ones((2,3), dtype=np.int16)\n",
    "\n",
    "d = a + b + c\n",
    "print (d[1,2] )"
   ]
  },
  {
   "cell_type": "markdown",
   "id": "8d096a18",
   "metadata": {},
   "source": [
    "# Quiz Six\n",
    "### Question #6:\n",
    "What gets printed? \n",
    "\n",
    "(a) 4, (b) 5, (c) 13, (d) 15, (e) An exception is thrown"
   ]
  },
  {
   "cell_type": "code",
   "execution_count": null,
   "id": "c9cbbec0",
   "metadata": {},
   "outputs": [],
   "source": [
    "import numpy as np\n",
    "\n",
    "a = np.array([1,2,3,4,5])\n",
    "b = np.arange(0,10,2)\n",
    "c = a + b\n",
    "print (c[4])"
   ]
  },
  {
   "cell_type": "markdown",
   "id": "9abe6730",
   "metadata": {},
   "source": [
    "# Quiz Seven\n",
    "### Question #7:\n",
    "What gets printed? \n",
    "\n",
    "(a) 2, (b) 8, (c) 11, (d) 14, (e) An exception is thrown"
   ]
  },
  {
   "cell_type": "code",
   "execution_count": null,
   "id": "e524fb22",
   "metadata": {},
   "outputs": [],
   "source": [
    "import numpy as np\n",
    "\n",
    "a = np.array([[0, 1, 0], [1, 0, 1]])\n",
    "a += 3\n",
    "b = a + 3\n",
    "print (a[1,2] + b[1,2])"
   ]
  },
  {
   "cell_type": "markdown",
   "id": "59baaae6",
   "metadata": {},
   "source": [
    "# Quiz Eight\n",
    "### Question #8:\n",
    "What gets printed? \n",
    "\n",
    "(a) 3, (b) 12, (c) [3, 12], (d) [3, 5, 7], (e) An exception is thrown"
   ]
  },
  {
   "cell_type": "code",
   "execution_count": null,
   "id": "aa8a0fa1",
   "metadata": {},
   "outputs": [],
   "source": [
    "import numpy as np\n",
    "\n",
    "a = np.array([[0, 1, 2], [3, 4, 5]])\n",
    "b = a.sum(axis=1)\n",
    "print (b)"
   ]
  },
  {
   "cell_type": "markdown",
   "id": "357c98a1",
   "metadata": {},
   "source": [
    "# Quiz Nine\n",
    "### Question #9:\n",
    "\n",
    "Write a NumPy program to convert a list of numeric value into a one-dimensional NumPy array\n",
    "```python\n",
    "lst = [1,2,4,3]\n",
    "```"
   ]
  },
  {
   "cell_type": "code",
   "execution_count": null,
   "id": "f39ea2ec",
   "metadata": {},
   "outputs": [],
   "source": [
    "#TODO: Type your code in this cell to solve quiz 9 :D\n",
    "\n",
    "\n"
   ]
  },
  {
   "cell_type": "markdown",
   "id": "3f6bd6e1",
   "metadata": {},
   "source": [
    "# Quiz Ten\n",
    "### Question #10:\n",
    "8. Write a NumPy program to create a 2d array with 1 on the border and 0 inside. Go to the editor\n",
    "Expected Output:\n",
    "Original array:\n",
    "\n",
    "```\n",
    "[[ 1. 1. 1. 1. 1.]\n",
    "\n",
    " [1. 1. 1. 1. 1. ]\n",
    " \n",
    " [1. 1. 1. 1. 1. ]\n",
    " \n",
    "[ 1. 1. 1. 1. 1.]]\n",
    "```\n",
    "\n",
    "1 on the border and 0 inside in the array\n",
    "\n",
    "```\n",
    "[[ 1. 1. 1. 1. 1.]\n",
    "\n",
    " [1. 0. 0. 0. 1.]\n",
    " \n",
    " [1. 0. 0. 0. 1.]\n",
    " \n",
    "[ 1. 1. 1. 1. 1.]]\n",
    "```"
   ]
  },
  {
   "cell_type": "code",
   "execution_count": null,
   "id": "3c0bb093",
   "metadata": {},
   "outputs": [],
   "source": [
    "# TODO: Type code in this cell to solve quiz 10 :D\n",
    "\n",
    "\n"
   ]
  },
  {
   "cell_type": "markdown",
   "id": "fa6c40c2",
   "metadata": {},
   "source": [
    "# Quiz Eleven\n",
    "### Question #11:\n",
    "\n",
    "Write a NumPy program to create a 8x8 matrix and fill it with a checkerboard pattern\n",
    "\n",
    "\n",
    "Sample Output:\n",
    "Checkerboard pattern: \n",
    "```\n",
    "[[0 1 0 1 0 1 0 1]                                                      \n",
    " [1 0 1 0 1 0 1 0]                                          \n",
    " [0 1 0 1 0 1 0 1]                                                      \n",
    " [1 0 1 0 1 0 1 0]                                                      \n",
    " [0 1 0 1 0 1 0 1]                                                      \n",
    " [1 0 1 0 1 0 1 0]                                                      \n",
    " [0 1 0 1 0 1 0 1]                                                      \n",
    " [1 0 1 0 1 0 1 0]]\n",
    "```"
   ]
  },
  {
   "cell_type": "code",
   "execution_count": null,
   "id": "f4f5e771",
   "metadata": {},
   "outputs": [],
   "source": [
    "# Todo: Complete code in this cell to solve question 11\n",
    "\n"
   ]
  },
  {
   "cell_type": "code",
   "execution_count": null,
   "id": "b8019c2f",
   "metadata": {},
   "outputs": [],
   "source": []
  }
 ],
 "metadata": {
  "kernelspec": {
   "display_name": "Python 3 (ipykernel)",
   "language": "python",
   "name": "python3"
  },
  "language_info": {
   "codemirror_mode": {
    "name": "ipython",
    "version": 3
   },
   "file_extension": ".py",
   "mimetype": "text/x-python",
   "name": "python",
   "nbconvert_exporter": "python",
   "pygments_lexer": "ipython3",
   "version": "3.10.4"
  }
 },
 "nbformat": 4,
 "nbformat_minor": 5
}
